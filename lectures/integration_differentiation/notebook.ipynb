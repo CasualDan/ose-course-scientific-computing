{
 "cells": [
  {
   "cell_type": "markdown",
   "metadata": {},
   "source": [
    "### Resources\n",
    "\n",
    "* http://hplgit.github.io/prog4comp/doc/pub/p4c-sphinx-Python/._pylight004.html\n",
    "\n",
    "* http://people.duke.edu/~ccc14/cspy/15C_MonteCarloIntegration.html\n",
    "\n",
    "* https://www.math.ubc.ca/~pwalls/math-python/integration/integrals/\n",
    "\n",
    "* https://guido.vonrudorff.de/wp-content/uploads/2020/05/NumericalIntegration.pdf\n",
    "\n",
    "* https://readthedocs.org/projects/mec-cs101-integrals/downloads/pdf/latest/\n",
    "\n",
    "* http://randall-romero.com/wp-content/uploads/SP6534/Lecture-06-Numerical-Integration-and-Differentiation-corregido.pdf"
   ]
  },
  {
   "cell_type": "code",
   "execution_count": 13,
   "metadata": {},
   "outputs": [],
   "source": [
    "from integration_differentiation_algorithms import trapz, simps\n",
    "import numpy as np\n",
    "import matplotlib.pyplot as plt"
   ]
  },
  {
   "cell_type": "markdown",
   "metadata": {},
   "source": [
    "https://www.math.ubc.ca/~pwalls/math-python/integration/trapezoid-rule/"
   ]
  },
  {
   "cell_type": "code",
   "execution_count": 18,
   "metadata": {},
   "outputs": [
    {
     "data": {
      "image/png": "[encoded data removed]",
      "text/plain": [
       "<Figure size 432x288 with 1 Axes>"
      ]
     },
     "metadata": {
      "needs_background": "light"
     },
     "output_type": "display_data"
    }
   ],
   "source": [
    "def f(x):\n",
    "    return 1 / (1 + x ** 2)\n",
    "\n",
    "\n",
    "a = 0\n",
    "b = 5\n",
    "N = 10\n",
    "\n",
    "# x and y values for the trapezoid rule\n",
    "x = np.linspace(a, b, N + 1)\n",
    "y = f(x)\n",
    "\n",
    "# X and Y values for plotting y=f(x)\n",
    "X = np.linspace(a, b, 100)\n",
    "Y = f(X)\n",
    "plt.plot(X, Y)\n",
    "\n",
    "for i in range(N):\n",
    "    xs = [x[i], x[i], x[i + 1], x[i + 1]]\n",
    "    ys = [0, f(x[i]), f(x[i + 1]), 0]\n",
    "    plt.fill(xs, ys, \"b\", edgecolor=\"b\", alpha=0.2)\n",
    "\n",
    "plt.title(\"Trapezoid Rule, N = {}\".format(N))\n",
    "plt.show()"
   ]
  },
  {
   "cell_type": "code",
   "execution_count": 15,
   "metadata": {},
   "outputs": [
    {
     "name": "stdout",
     "output_type": "stream",
     "text": [
      "1.3731040812301096\n"
     ]
    }
   ],
   "source": [
    "T = trapz(f, a, b, N)\n",
    "print(T)"
   ]
  },
  {
   "cell_type": "code",
   "execution_count": 17,
   "metadata": {},
   "outputs": [
    {
     "data": {
      "text/plain": [
       "1.0"
      ]
     },
     "execution_count": 17,
     "metadata": {},
     "output_type": "execute_result"
    }
   ],
   "source": [
    "def test_fun(x):\n",
    "    return 3 * x ** 2\n",
    "\n",
    "\n",
    "simps(test_fun, 0, 1, 10)"
   ]
  },
  {
   "cell_type": "code",
   "execution_count": null,
   "metadata": {},
   "outputs": [],
   "source": []
  }
 ],
 "metadata": {
  "kernelspec": {
   "display_name": "Python 3",
   "language": "python",
   "name": "python3"
  },
  "language_info": {
   "codemirror_mode": {
    "name": "ipython",
    "version": 3
   },
   "file_extension": ".py",
   "mimetype": "text/x-python",
   "name": "python",
   "nbconvert_exporter": "python",
   "pygments_lexer": "ipython3",
   "version": "3.7.7"
  }
 },
 "nbformat": 4,
 "nbformat_minor": 4
}
