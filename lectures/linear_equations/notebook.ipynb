{
 "cells": [
  {
   "cell_type": "markdown",
   "metadata": {},
   "source": [
    "# Linear equations"
   ]
  },
  {
   "cell_type": "code",
   "execution_count": 7,
   "metadata": {},
   "outputs": [],
   "source": [
    "import pandas as pd\n",
    "import numpy as np\n",
    "\n",
    "from algorithms import gauss_seidel\n",
    "from algorithms import gauss_jacobi\n",
    "from algorithms import forward_substitution\n",
    "from algorithms import backward_substitution\n",
    "from algorithms import solve\n",
    "\n",
    "from plots import plot_operation_count\n",
    "from plots import plot_ill_problem_2\n",
    "from plots import plot_iterative_convergence\n",
    "\n",
    "from problems import get_ill_problem_1\n",
    "from problems import get_ill_problem_2\n",
    "from problems import get_inverse_demand_problem\n",
    "\n",
    "\n",
    "import time\n",
    "\n",
    "# how come using autformatting?\n",
    "np.set_printoptions(precision=4)\n",
    "# also for Pandas"
   ]
  },
  {
   "cell_type": "markdown",
   "metadata": {},
   "source": [
    "## Special cases\n",
    "\n",
    "We can start with some special cases to develop the basic building blocks for more complicated material"
   ]
  },
  {
   "cell_type": "code",
   "execution_count": 8,
   "metadata": {},
   "outputs": [
    {
     "data": {
      "text/plain": [
       "(array([-1.3267, -0.8319, -1.0784]), array([-1.3267, -0.8319, -1.0784]))"
      ]
     },
     "execution_count": 8,
     "metadata": {},
     "output_type": "execute_result"
    }
   ],
   "source": [
    "A = np.identity(3)\n",
    "b = np.random.normal(size=3)\n",
    "\n",
    "x = forward_substitution(A, b)\n",
    "x = backward_substitution(A, b)\n",
    "x, b"
   ]
  },
  {
   "cell_type": "markdown",
   "metadata": {},
   "source": [
    "## L-U Factorization\n",
    "\n",
    "\n",
    "\n",
    "\n",
    "\n"
   ]
  },
  {
   "cell_type": "markdown",
   "metadata": {},
   "source": [
    "Adding to this the two building blocks we developed earlier `forward_substitution` and `backward_substitution`, we can now write a quite generic function to solve systems of linear equations."
   ]
  },
  {
   "cell_type": "code",
   "execution_count": 15,
   "metadata": {},
   "outputs": [
    {
     "data": {
      "text/plain": [
       "False"
      ]
     },
     "execution_count": 15,
     "metadata": {},
     "output_type": "execute_result"
    }
   ],
   "source": [
    "A = np.array([[3, 1], [1, 2]])\n",
    "b = np.array([9, 8])\n",
    "\n",
    "x = solve(A, b)\n",
    "# Test that correct.\n",
    "np.allclose(np.dot(A, x), b)"
   ]
  },
  {
   "cell_type": "markdown",
   "metadata": {},
   "source": [
    "Building your own numerical routines is usually the only way to really understand the algorithms and learn about all the potential pitfalls. However, the default should be to rely on battle-tested production code. For linear algebra there are numerous well established libraries available."
   ]
  },
  {
   "cell_type": "markdown",
   "metadata": {},
   "source": [
    "How does solving a system of linear equations compare to other alternative?"
   ]
  },
  {
   "cell_type": "code",
   "execution_count": 4,
   "metadata": {},
   "outputs": [
    {
     "data": {
      "image/png": "[encoded data removed]",
      "text/plain": [
       "<Figure size 432x288 with 1 Axes>"
      ]
     },
     "metadata": {
      "needs_background": "light"
     },
     "output_type": "display_data"
    }
   ],
   "source": [
    "plot_operation_count()"
   ]
  },
  {
   "cell_type": "markdown",
   "metadata": {},
   "source": [
    "The right setup for your numerical needs depends on your particular problem. For example, this trade-off looks very different if you have to solve numerous linear equations that only differ in $b$ but not $A$. "
   ]
  },
  {
   "cell_type": "code",
   "execution_count": 5,
   "metadata": {},
   "outputs": [
    {
     "name": "stdout",
     "output_type": "stream",
     "text": [
      "  m     n     np.solve(A,b) dot(inv(A), b) \n",
      "----------------------------------------\n",
      "   1    50        7.05        4.85\n",
      "   1   500      106.61      117.80\n",
      " 100    50       11.74        0.07\n",
      " 100   500     9031.62       87.34\n"
     ]
    }
   ],
   "source": [
    "def tic():\n",
    "    return time.time()\n",
    "\n",
    "\n",
    "def toc(t):\n",
    "    return time.time() - t\n",
    "\n",
    "\n",
    "print(\n",
    "    \"{:^5} {:^5}   {:^11} {:^11} \\n{}\".format(\n",
    "        \"m\", \"n\", \"np.solve(A,b)\", \"dot(inv(A), b)\", \"-\" * 40\n",
    "    )\n",
    ")\n",
    "\n",
    "for m in [1, 100]:\n",
    "    for n in [50, 500]:\n",
    "        A = np.random.rand(n, n)\n",
    "        b = np.random.rand(n, 1)\n",
    "\n",
    "        tt = tic()\n",
    "        for j in range(m):\n",
    "            x = np.linalg.solve(A, b)\n",
    "\n",
    "        f1 = 100 * toc(tt)\n",
    "\n",
    "        tt = tic()\n",
    "        Ainv = np.linalg.inv(A)\n",
    "        for j in range(m):\n",
    "            x = np.dot(Ainv, b)\n",
    "\n",
    "        f2 = 100 * toc(tt)\n",
    "        print(\" {:3}   {:3} {:11.2f} {:11.2f}\".format(m, n, f1, f2))"
   ]
  },
  {
   "cell_type": "markdown",
   "metadata": {},
   "source": [
    "## Gaussian elimination\n",
    "\n",
    "code in file, give reference and then move on.\n"
   ]
  },
  {
   "cell_type": "markdown",
   "metadata": {},
   "source": [
    "## Rounding error"
   ]
  },
  {
   "cell_type": "markdown",
   "metadata": {},
   "source": [
    "##  ill conditioned"
   ]
  },
  {
   "cell_type": "code",
   "execution_count": 6,
   "metadata": {},
   "outputs": [],
   "source": [
    "grid = [5, 10, 15]\n",
    "cond = np.tile(np.nan, len(grid))\n",
    "err = np.tile(np.nan, len(grid))\n",
    "for i, n in enumerate(grid):\n",
    "    A, b, x_true = get_ill_problem_1(n)\n",
    "    x_solve = np.linalg.solve(A, b)\n",
    "    cond[i] = np.linalg.cond(A)\n",
    "    err[i] = np.linalg.norm(x_solve - x_true, 1)"
   ]
  },
  {
   "cell_type": "code",
   "execution_count": 7,
   "metadata": {},
   "outputs": [],
   "source": [
    "df = pd.DataFrame(columns=[\"Condition\", \"Error\", \"Dimension\"])\n",
    "\n",
    "df[\"Dimension\"] = grid\n",
    "df[\"Condition\"] = err\n",
    "df[\"Error\"] = cond"
   ]
  },
  {
   "cell_type": "code",
   "execution_count": 8,
   "metadata": {},
   "outputs": [
    {
     "data": {
      "text/html": [
       "<div>\n",
       "<style scoped>\n",
       "    .dataframe tbody tr th:only-of-type {\n",
       "        vertical-align: middle;\n",
       "    }\n",
       "\n",
       "    .dataframe tbody tr th {\n",
       "        vertical-align: top;\n",
       "    }\n",
       "\n",
       "    .dataframe thead th {\n",
       "        text-align: right;\n",
       "    }\n",
       "</style>\n",
       "<table border=\"1\" class=\"dataframe\">\n",
       "  <thead>\n",
       "    <tr style=\"text-align: right;\">\n",
       "      <th></th>\n",
       "      <th>Condition</th>\n",
       "      <th>Error</th>\n",
       "      <th>Dimension</th>\n",
       "    </tr>\n",
       "  </thead>\n",
       "  <tbody>\n",
       "    <tr>\n",
       "      <th>0</th>\n",
       "      <td>6.664669e-13</td>\n",
       "      <td>2.616969e+04</td>\n",
       "      <td>5</td>\n",
       "    </tr>\n",
       "    <tr>\n",
       "      <th>1</th>\n",
       "      <td>1.806119e-06</td>\n",
       "      <td>2.106258e+12</td>\n",
       "      <td>10</td>\n",
       "    </tr>\n",
       "    <tr>\n",
       "      <th>2</th>\n",
       "      <td>4.054513e+01</td>\n",
       "      <td>2.582410e+21</td>\n",
       "      <td>15</td>\n",
       "    </tr>\n",
       "  </tbody>\n",
       "</table>\n",
       "</div>"
      ],
      "text/plain": [
       "      Condition         Error  Dimension\n",
       "0  6.664669e-13  2.616969e+04          5\n",
       "1  1.806119e-06  2.106258e+12         10\n",
       "2  4.054513e+01  2.582410e+21         15"
      ]
     },
     "execution_count": 8,
     "metadata": {},
     "output_type": "execute_result"
    }
   ],
   "source": [
    "df"
   ]
  },
  {
   "cell_type": "code",
   "execution_count": 9,
   "metadata": {},
   "outputs": [],
   "source": [
    "grid = np.linspace(0.9, 1.1)\n",
    "cond, err = list(), list()\n",
    "for p in grid:\n",
    "    A, b, x_true = get_ill_problem_2(p)\n",
    "    x_solve = np.linalg.solve(A, b)\n",
    "\n",
    "    cond.append(np.linalg.cond(A))\n",
    "    err.append(np.linalg.norm(x_solve - x_true, 1))"
   ]
  },
  {
   "cell_type": "code",
   "execution_count": 10,
   "metadata": {},
   "outputs": [
    {
     "data": {
      "image/png": "[encoded data removed]",
      "text/plain": [
       "<Figure size 432x288 with 2 Axes>"
      ]
     },
     "metadata": {
      "needs_background": "light"
     },
     "output_type": "display_data"
    }
   ],
   "source": [
    "plot_ill_problem_2(cond, err, grid)"
   ]
  },
  {
   "cell_type": "markdown",
   "metadata": {},
   "source": [
    "## Iterative methods\n"
   ]
  },
  {
   "cell_type": "code",
   "execution_count": 11,
   "metadata": {},
   "outputs": [],
   "source": [
    "A, b, x_true = get_inverse_demand_problem()"
   ]
  },
  {
   "cell_type": "markdown",
   "metadata": {},
   "source": [
    "### Gauss Jacobi"
   ]
  },
  {
   "cell_type": "code",
   "execution_count": 12,
   "metadata": {},
   "outputs": [],
   "source": [
    "x_solve, conv_gj = gauss_jacobi(A, b)"
   ]
  },
  {
   "cell_type": "code",
   "execution_count": 13,
   "metadata": {},
   "outputs": [
    {
     "data": {
      "text/plain": [
       "(array([6., 4.]), array([6., 4.]))"
      ]
     },
     "execution_count": 13,
     "metadata": {},
     "output_type": "execute_result"
    }
   ],
   "source": [
    "x_solve, x_true"
   ]
  },
  {
   "cell_type": "markdown",
   "metadata": {},
   "source": [
    "### Gauss Seidel"
   ]
  },
  {
   "cell_type": "code",
   "execution_count": 14,
   "metadata": {},
   "outputs": [],
   "source": [
    "x_solve, conv_gs = gauss_seidel(A, b)"
   ]
  },
  {
   "cell_type": "markdown",
   "metadata": {},
   "source": [
    "We can now compare the two methods."
   ]
  },
  {
   "cell_type": "code",
   "execution_count": 15,
   "metadata": {},
   "outputs": [
    {
     "data": {
      "image/png": "[encoded data removed]",
      "text/plain": [
       "<Figure size 432x288 with 1 Axes>"
      ]
     },
     "metadata": {
      "needs_background": "light"
     },
     "output_type": "display_data"
    }
   ],
   "source": [
    "plot_iterative_convergence(conv_gs, conv_gj)"
   ]
  },
  {
   "cell_type": "markdown",
   "metadata": {},
   "source": [
    "----"
   ]
  },
  {
   "cell_type": "code",
   "execution_count": 37,
   "metadata": {},
   "outputs": [
    {
     "name": "stdout",
     "output_type": "stream",
     "text": [
      "[[ 1.  0.  0.]\n",
      " [-1.  1.  0.]\n",
      " [ 1.  0.  1.]]\n",
      "[[-3.  2.  3.]\n",
      " [ 0.  2.  3.]\n",
      " [ 0.  0. -2.]]\n",
      "[ 10.  18. -13.]\n",
      "[ 2.6667 -0.75    6.5   ]\n"
     ]
    }
   ],
   "source": [
    "from scipy.linalg import lu\n",
    "\n",
    "b = np.array([10, 8, -3]).T\n",
    "A = np.array([[-3, 2, 3], [-3, 2, 1], [3, 0, 0]])\n",
    "\n",
    "\n",
    "_, l, u = lu(A)\n",
    "\n",
    "y = forward_substitution(l, b)\n",
    "x = backward_substitution(u, y)\n",
    "\n",
    "print(l)\n",
    "print(u)\n",
    "print(y)\n",
    "print(x)"
   ]
  },
  {
   "cell_type": "code",
   "execution_count": null,
   "metadata": {},
   "outputs": [],
   "source": []
  }
 ],
 "metadata": {
  "kernelspec": {
   "display_name": "Python 3",
   "language": "python",
   "name": "python3"
  },
  "language_info": {
   "codemirror_mode": {
    "name": "ipython",
    "version": 3
   },
   "file_extension": ".py",
   "mimetype": "text/x-python",
   "name": "python",
   "nbconvert_exporter": "python",
   "pygments_lexer": "ipython3",
   "version": "3.8.6"
  }
 },
 "nbformat": 4,
 "nbformat_minor": 4
}
